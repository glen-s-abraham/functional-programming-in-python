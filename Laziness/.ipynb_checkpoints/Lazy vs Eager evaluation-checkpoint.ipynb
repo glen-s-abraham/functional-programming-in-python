{
 "cells": [
  {
   "cell_type": "code",
   "execution_count": 1,
   "id": "9c0e809d-9055-443c-b7ce-be0198c05d2d",
   "metadata": {},
   "outputs": [],
   "source": [
    "eager_squares = [x*x for x in range(5)]"
   ]
  },
  {
   "cell_type": "code",
   "execution_count": 2,
   "id": "4dd766ad-f4f2-4912-8369-c9d2c37a3adf",
   "metadata": {},
   "outputs": [
    {
     "name": "stdout",
     "output_type": "stream",
     "text": [
      "[0, 1, 4, 9, 16]\n"
     ]
    }
   ],
   "source": [
    "print(eager_squares)"
   ]
  },
  {
   "cell_type": "code",
   "execution_count": 12,
   "id": "027ca5e3-e0bc-4490-92d9-5d05296d0814",
   "metadata": {},
   "outputs": [],
   "source": [
    "lazy_squares = (x*x for x in range(5)) # used generators instead of eqger evaluator."
   ]
  },
  {
   "cell_type": "code",
   "execution_count": 5,
   "id": "69a91712-0894-4358-b74f-83be79cee9bf",
   "metadata": {},
   "outputs": [
    {
     "data": {
      "text/plain": [
       "<generator object <genexpr> at 0x000002098BF9F1D0>"
      ]
     },
     "execution_count": 5,
     "metadata": {},
     "output_type": "execute_result"
    }
   ],
   "source": [
    "lazy_squares"
   ]
  },
  {
   "cell_type": "code",
   "execution_count": 14,
   "id": "3ca9e452-83d0-4c6f-9fd0-3800cdab4260",
   "metadata": {},
   "outputs": [
    {
     "data": {
      "text/plain": [
       "1"
      ]
     },
     "execution_count": 14,
     "metadata": {},
     "output_type": "execute_result"
    }
   ],
   "source": [
    "next(lazy_squares)"
   ]
  }
 ],
 "metadata": {
  "kernelspec": {
   "display_name": "Python 3 (ipykernel)",
   "language": "python",
   "name": "python3"
  },
  "language_info": {
   "codemirror_mode": {
    "name": "ipython",
    "version": 3
   },
   "file_extension": ".py",
   "mimetype": "text/x-python",
   "name": "python",
   "nbconvert_exporter": "python",
   "pygments_lexer": "ipython3",
   "version": "3.11.4"
  }
 },
 "nbformat": 4,
 "nbformat_minor": 5
}
