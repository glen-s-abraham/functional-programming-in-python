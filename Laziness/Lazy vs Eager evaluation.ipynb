{
 "cells": [
  {
   "cell_type": "code",
   "execution_count": 1,
   "id": "9c0e809d-9055-443c-b7ce-be0198c05d2d",
   "metadata": {},
   "outputs": [],
   "source": [
    "eager_squares = [x*x for x in range(5)]"
   ]
  },
  {
   "cell_type": "code",
   "execution_count": 2,
   "id": "4dd766ad-f4f2-4912-8369-c9d2c37a3adf",
   "metadata": {},
   "outputs": [
    {
     "name": "stdout",
     "output_type": "stream",
     "text": [
      "[0, 1, 4, 9, 16]\n"
     ]
    }
   ],
   "source": [
    "print(eager_squares)"
   ]
  },
  {
   "cell_type": "code",
   "execution_count": 12,
   "id": "027ca5e3-e0bc-4490-92d9-5d05296d0814",
   "metadata": {},
   "outputs": [],
   "source": [
    "lazy_squares = (x*x for x in range(5)) # used generators instead of eqger evaluator."
   ]
  },
  {
   "cell_type": "code",
   "execution_count": 5,
   "id": "69a91712-0894-4358-b74f-83be79cee9bf",
   "metadata": {},
   "outputs": [
    {
     "data": {
      "text/plain": [
       "<generator object <genexpr> at 0x000002098BF9F1D0>"
      ]
     },
     "execution_count": 5,
     "metadata": {},
     "output_type": "execute_result"
    }
   ],
   "source": [
    "lazy_squares"
   ]
  },
  {
   "cell_type": "code",
   "execution_count": 14,
   "id": "3ca9e452-83d0-4c6f-9fd0-3800cdab4260",
   "metadata": {},
   "outputs": [
    {
     "data": {
      "text/plain": [
       "1"
      ]
     },
     "execution_count": 14,
     "metadata": {},
     "output_type": "execute_result"
    }
   ],
   "source": [
    "next(lazy_squares)"
   ]
  },
  {
   "cell_type": "code",
   "execution_count": 16,
   "id": "b2de59e7-009f-4e31-b322-1795f11a5fe9",
   "metadata": {},
   "outputs": [],
   "source": [
    "def lazy_even(n):\n",
    "    for i in range(n):\n",
    "        if i%2==0:\n",
    "            yield i #yield makes it a generator function"
   ]
  },
  {
   "cell_type": "code",
   "execution_count": 17,
   "id": "03678381-f5b5-46f8-87ce-aa090bcb2047",
   "metadata": {},
   "outputs": [],
   "source": [
    "gen_func = lazy_even(10)"
   ]
  },
  {
   "cell_type": "code",
   "execution_count": 20,
   "id": "dfbf0ec2-6bb4-4c6b-b61e-f09081c91ca4",
   "metadata": {},
   "outputs": [
    {
     "data": {
      "text/plain": [
       "(2, 4, 6, 8)"
      ]
     },
     "execution_count": 20,
     "metadata": {},
     "output_type": "execute_result"
    }
   ],
   "source": [
    "next(gen_func),next(gen_func),next(gen_func),next(gen_func)"
   ]
  },
  {
   "cell_type": "code",
   "execution_count": 28,
   "id": "65e3bae7-1141-4c1c-ac81-d8881ca50df9",
   "metadata": {},
   "outputs": [],
   "source": [
    "def lazy_squares(n):\n",
    "    for i in (n):\n",
    "        yield i**2"
   ]
  },
  {
   "cell_type": "code",
   "execution_count": 33,
   "id": "d30f6b48-4714-49a3-a025-90df60d57202",
   "metadata": {},
   "outputs": [],
   "source": [
    "squared_evens = lazy_squares(lazy_even(5))"
   ]
  },
  {
   "cell_type": "code",
   "execution_count": 34,
   "id": "1ef189e4-5933-4ac4-80d3-76796223da67",
   "metadata": {},
   "outputs": [
    {
     "data": {
      "text/plain": [
       "(0, 4, 16)"
      ]
     },
     "execution_count": 34,
     "metadata": {},
     "output_type": "execute_result"
    }
   ],
   "source": [
    "next(squared_evens),next(squared_evens),next(squared_evens)"
   ]
  }
 ],
 "metadata": {
  "kernelspec": {
   "display_name": "Python 3 (ipykernel)",
   "language": "python",
   "name": "python3"
  },
  "language_info": {
   "codemirror_mode": {
    "name": "ipython",
    "version": 3
   },
   "file_extension": ".py",
   "mimetype": "text/x-python",
   "name": "python",
   "nbconvert_exporter": "python",
   "pygments_lexer": "ipython3",
   "version": "3.11.4"
  }
 },
 "nbformat": 4,
 "nbformat_minor": 5
}
