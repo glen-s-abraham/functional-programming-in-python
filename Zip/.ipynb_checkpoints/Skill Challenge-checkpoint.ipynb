{
 "cells": [
  {
   "cell_type": "code",
   "execution_count": 1,
   "id": "e22e81ae-2f0a-490f-acc5-d77063b834cc",
   "metadata": {},
   "outputs": [],
   "source": [
    "items = [\"Shirt\",\"Pants\",\"Shoes\",\"Hat\"]\n",
    "prices = [20.00,30.00,50.00,10.00]\n",
    "colors = ['Red','Blue',None,'Black']\n",
    "discounts = [10,0,20,5]"
   ]
  },
  {
   "cell_type": "code",
   "execution_count": 3,
   "id": "c1a1c69a-9d2f-4c33-8ddd-31e556cb8219",
   "metadata": {},
   "outputs": [
    {
     "data": {
      "text/plain": [
       "[('Shirt', 20.0, 'Red', 10),\n",
       " ('Pants', 30.0, 'Blue', 0),\n",
       " ('Shoes', 50.0, None, 20),\n",
       " ('Hat', 10.0, 'Black', 5)]"
      ]
     },
     "execution_count": 3,
     "metadata": {},
     "output_type": "execute_result"
    }
   ],
   "source": [
    "try:\n",
    "    product_tuples = list(zip(items,prices,colors,discounts,strict=True))\n",
    "except ValueErro:\n",
    "    raise ValueError()"
   ]
  }
 ],
 "metadata": {
  "kernelspec": {
   "display_name": "Python 3 (ipykernel)",
   "language": "python",
   "name": "python3"
  },
  "language_info": {
   "codemirror_mode": {
    "name": "ipython",
    "version": 3
   },
   "file_extension": ".py",
   "mimetype": "text/x-python",
   "name": "python",
   "nbconvert_exporter": "python",
   "pygments_lexer": "ipython3",
   "version": "3.11.4"
  }
 },
 "nbformat": 4,
 "nbformat_minor": 5
}
