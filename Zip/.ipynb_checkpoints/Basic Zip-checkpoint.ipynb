{
 "cells": [
  {
   "cell_type": "code",
   "execution_count": 1,
   "id": "2e540317-1f5f-436d-9efd-af4a13c177df",
   "metadata": {},
   "outputs": [],
   "source": [
    "cars = [\"Ford\",\"Chevy\",\"Toyota\",\"Tesla\"]\n",
    "prices = [20000,25000,30000,50000]"
   ]
  },
  {
   "cell_type": "code",
   "execution_count": 5,
   "id": "24e6120e-81d1-418d-b570-316fa62882b7",
   "metadata": {},
   "outputs": [],
   "source": [
    "zipped_data = zip(cars,prices)"
   ]
  },
  {
   "cell_type": "code",
   "execution_count": 3,
   "id": "88d8849f-0799-4d7f-8664-0d08deaa5228",
   "metadata": {},
   "outputs": [
    {
     "data": {
      "text/plain": [
       "<zip at 0x1ff6b041a40>"
      ]
     },
     "execution_count": 3,
     "metadata": {},
     "output_type": "execute_result"
    }
   ],
   "source": [
    "zipped_data"
   ]
  },
  {
   "cell_type": "code",
   "execution_count": 4,
   "id": "5be9cc8f-843a-4393-baeb-b7c2e8195f10",
   "metadata": {},
   "outputs": [
    {
     "data": {
      "text/plain": [
       "[('Ford', 20000), ('Chevy', 25000), ('Toyota', 30000), ('Tesla', 50000)]"
      ]
     },
     "execution_count": 4,
     "metadata": {},
     "output_type": "execute_result"
    }
   ],
   "source": [
    "list(zipped_data)"
   ]
  },
  {
   "cell_type": "code",
   "execution_count": 6,
   "id": "06b8f4c0-35b2-44c8-99c7-8b298a6a0c81",
   "metadata": {},
   "outputs": [
    {
     "data": {
      "text/plain": [
       "{'Ford': 20000, 'Chevy': 25000, 'Toyota': 30000, 'Tesla': 50000}"
      ]
     },
     "execution_count": 6,
     "metadata": {},
     "output_type": "execute_result"
    }
   ],
   "source": [
    "dict(zipped_data)"
   ]
  },
  {
   "cell_type": "code",
   "execution_count": 7,
   "id": "ecce56ce-7d87-4ec9-b1d7-2c75554ea5d1",
   "metadata": {},
   "outputs": [],
   "source": [
    "colors = [\"red\",\"blue\",\"black\",\"white\"]"
   ]
  },
  {
   "cell_type": "code",
   "execution_count": 8,
   "id": "eda8651b-697d-4613-8f59-4e50be8bb7b4",
   "metadata": {},
   "outputs": [],
   "source": [
    "zipped_data = zip(cars,prices,colors)"
   ]
  },
  {
   "cell_type": "code",
   "execution_count": 9,
   "id": "c144cde3-2614-46f7-93d3-40426969f460",
   "metadata": {},
   "outputs": [
    {
     "data": {
      "text/plain": [
       "[('Ford', 20000, 'red'),\n",
       " ('Chevy', 25000, 'blue'),\n",
       " ('Toyota', 30000, 'black'),\n",
       " ('Tesla', 50000, 'white')]"
      ]
     },
     "execution_count": 9,
     "metadata": {},
     "output_type": "execute_result"
    }
   ],
   "source": [
    "list(zipped_data)"
   ]
  }
 ],
 "metadata": {
  "kernelspec": {
   "display_name": "Python 3 (ipykernel)",
   "language": "python",
   "name": "python3"
  },
  "language_info": {
   "codemirror_mode": {
    "name": "ipython",
    "version": 3
   },
   "file_extension": ".py",
   "mimetype": "text/x-python",
   "name": "python",
   "nbconvert_exporter": "python",
   "pygments_lexer": "ipython3",
   "version": "3.11.4"
  }
 },
 "nbformat": 4,
 "nbformat_minor": 5
}
