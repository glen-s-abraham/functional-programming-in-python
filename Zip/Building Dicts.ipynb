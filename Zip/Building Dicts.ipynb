{
 "cells": [
  {
   "cell_type": "code",
   "execution_count": 1,
   "id": "2349c049-01a0-43eb-9993-de051cf6bc62",
   "metadata": {},
   "outputs": [],
   "source": [
    "stock_index = [\"s_and_p\",\"dow_jones\",\"nasdaq\"]\n",
    "close_values = [2470.30,22000.00,6312.47]"
   ]
  },
  {
   "cell_type": "code",
   "execution_count": 2,
   "id": "d3d2b311-13b3-4779-b206-98e842dbdc88",
   "metadata": {},
   "outputs": [],
   "source": [
    "index_dict = {}"
   ]
  },
  {
   "cell_type": "code",
   "execution_count": 4,
   "id": "6a94d8c3-ff72-470c-bd31-76e0cbfd8a43",
   "metadata": {},
   "outputs": [],
   "source": [
    "for index, close_value in zip(stock_index,close_values):\n",
    "    index_dict[index] = close_value"
   ]
  },
  {
   "cell_type": "code",
   "execution_count": 5,
   "id": "8999f98e-0792-4fcf-a4fa-ae8231f38e1e",
   "metadata": {},
   "outputs": [
    {
     "data": {
      "text/plain": [
       "{'s_and_p': 2470.3, 'dow_jones': 22000.0, 'nasdaq': 6312.47}"
      ]
     },
     "execution_count": 5,
     "metadata": {},
     "output_type": "execute_result"
    }
   ],
   "source": [
    "index_dict"
   ]
  },
  {
   "cell_type": "code",
   "execution_count": 6,
   "id": "086fe36b-528b-406c-8ea4-7529aee60125",
   "metadata": {},
   "outputs": [
    {
     "data": {
      "text/plain": [
       "{'s_and_p': 2470.3, 'dow_jones': 22000.0, 'nasdaq': 6312.47}"
      ]
     },
     "execution_count": 6,
     "metadata": {},
     "output_type": "execute_result"
    }
   ],
   "source": [
    "dict(zip(stock_index,close_values))"
   ]
  }
 ],
 "metadata": {
  "kernelspec": {
   "display_name": "Python 3 (ipykernel)",
   "language": "python",
   "name": "python3"
  },
  "language_info": {
   "codemirror_mode": {
    "name": "ipython",
    "version": 3
   },
   "file_extension": ".py",
   "mimetype": "text/x-python",
   "name": "python",
   "nbconvert_exporter": "python",
   "pygments_lexer": "ipython3",
   "version": "3.11.4"
  }
 },
 "nbformat": 4,
 "nbformat_minor": 5
}
