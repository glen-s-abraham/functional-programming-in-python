{
 "cells": [
  {
   "cell_type": "code",
   "execution_count": 1,
   "id": "843fd860-2c81-45dc-a874-ef96a1c07c94",
   "metadata": {},
   "outputs": [],
   "source": [
    "zipped_data = [('Alice',85),('Bob',90),('Charlie',78)]"
   ]
  },
  {
   "cell_type": "code",
   "execution_count": 2,
   "id": "f56773d2-e2ee-4c81-b113-9f54fd9fe554",
   "metadata": {},
   "outputs": [],
   "source": [
    "names = []\n",
    "scores = []\n",
    "for name, score in zipped_data:\n",
    "    names.append(name)\n",
    "    scores.append(score)"
   ]
  },
  {
   "cell_type": "code",
   "execution_count": 3,
   "id": "b2e95cec-4bcf-465a-9b6e-cea713faa961",
   "metadata": {},
   "outputs": [
    {
     "data": {
      "text/plain": [
       "(['Alice', 'Bob', 'Charlie'], [85, 90, 78])"
      ]
     },
     "execution_count": 3,
     "metadata": {},
     "output_type": "execute_result"
    }
   ],
   "source": [
    "names,scores"
   ]
  },
  {
   "cell_type": "code",
   "execution_count": 4,
   "id": "55ac51da-e722-4a6c-a9be-e51f99516613",
   "metadata": {},
   "outputs": [],
   "source": [
    "names,scores = zip(*zipped_data)"
   ]
  },
  {
   "cell_type": "code",
   "execution_count": 5,
   "id": "0e2eeea2-b341-4514-9edf-09538b17a80e",
   "metadata": {},
   "outputs": [
    {
     "data": {
      "text/plain": [
       "(('Alice', 'Bob', 'Charlie'), (85, 90, 78))"
      ]
     },
     "execution_count": 5,
     "metadata": {},
     "output_type": "execute_result"
    }
   ],
   "source": [
    "names,scores"
   ]
  }
 ],
 "metadata": {
  "kernelspec": {
   "display_name": "Python 3 (ipykernel)",
   "language": "python",
   "name": "python3"
  },
  "language_info": {
   "codemirror_mode": {
    "name": "ipython",
    "version": 3
   },
   "file_extension": ".py",
   "mimetype": "text/x-python",
   "name": "python",
   "nbconvert_exporter": "python",
   "pygments_lexer": "ipython3",
   "version": "3.11.4"
  }
 },
 "nbformat": 4,
 "nbformat_minor": 5
}
