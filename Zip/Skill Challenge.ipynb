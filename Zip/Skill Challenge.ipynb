{
 "cells": [
  {
   "cell_type": "code",
   "execution_count": 1,
   "id": "e22e81ae-2f0a-490f-acc5-d77063b834cc",
   "metadata": {},
   "outputs": [],
   "source": [
    "items = [\"Shirt\",\"Pants\",\"Shoes\",\"Hat\"]\n",
    "prices = [20.00,30.00,50.00,10.00]\n",
    "colors = ['Red','Blue',None,'Black']\n",
    "discounts = [10,0,20,5]"
   ]
  },
  {
   "cell_type": "code",
   "execution_count": 5,
   "id": "c1a1c69a-9d2f-4c33-8ddd-31e556cb8219",
   "metadata": {},
   "outputs": [],
   "source": [
    "try:\n",
    "    product_tuples = list(zip(items,prices,colors,discounts,strict=True))\n",
    "except ValueError:\n",
    "    raise ValueError(\"All inputs must have the same length\")"
   ]
  },
  {
   "cell_type": "code",
   "execution_count": 6,
   "id": "0d570b7c-3609-494f-ac91-80783cf0be97",
   "metadata": {},
   "outputs": [
    {
     "data": {
      "text/plain": [
       "[('Shirt', 20.0, 'Red', 10),\n",
       " ('Pants', 30.0, 'Blue', 0),\n",
       " ('Shoes', 50.0, None, 20),\n",
       " ('Hat', 10.0, 'Black', 5)]"
      ]
     },
     "execution_count": 6,
     "metadata": {},
     "output_type": "execute_result"
    }
   ],
   "source": [
    "product_tuples"
   ]
  },
  {
   "cell_type": "code",
   "execution_count": 8,
   "id": "1efb21e5-7228-408e-9b45-082d4b553ed7",
   "metadata": {},
   "outputs": [],
   "source": [
    "report = {\n",
    "    item:{\n",
    "        'Price':price,\n",
    "        'Available Colors': color,\n",
    "        'Discounted Price': round(price * (1-discount/100),2)\n",
    "    } for item,price,color,discount in product_tuples\n",
    "}"
   ]
  },
  {
   "cell_type": "code",
   "execution_count": 9,
   "id": "0c2d7529-0d4f-42ab-b24e-57bd24fc2ffa",
   "metadata": {},
   "outputs": [
    {
     "data": {
      "text/plain": [
       "{'Shirt': {'Price': 20.0, 'Available Colors': 'Red', 'Discounted Price': 18.0},\n",
       " 'Pants': {'Price': 30.0,\n",
       "  'Available Colors': 'Blue',\n",
       "  'Discounted Price': 30.0},\n",
       " 'Shoes': {'Price': 50.0, 'Available Colors': None, 'Discounted Price': 40.0},\n",
       " 'Hat': {'Price': 10.0, 'Available Colors': 'Black', 'Discounted Price': 9.5}}"
      ]
     },
     "execution_count": 9,
     "metadata": {},
     "output_type": "execute_result"
    }
   ],
   "source": [
    "report"
   ]
  }
 ],
 "metadata": {
  "kernelspec": {
   "display_name": "Python 3 (ipykernel)",
   "language": "python",
   "name": "python3"
  },
  "language_info": {
   "codemirror_mode": {
    "name": "ipython",
    "version": 3
   },
   "file_extension": ".py",
   "mimetype": "text/x-python",
   "name": "python",
   "nbconvert_exporter": "python",
   "pygments_lexer": "ipython3",
   "version": "3.11.4"
  }
 },
 "nbformat": 4,
 "nbformat_minor": 5
}
