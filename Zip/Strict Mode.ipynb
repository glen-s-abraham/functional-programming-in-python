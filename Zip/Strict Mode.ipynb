{
 "cells": [
  {
   "cell_type": "code",
   "execution_count": 1,
   "id": "b8c97af5-34b8-4227-83cf-ddebe972dc87",
   "metadata": {},
   "outputs": [
    {
     "data": {
      "text/plain": [
       "[('Ford', 20000, 'red'),\n",
       " ('Chevy', 25000, 'blue'),\n",
       " ('Toyota', 30000, 'black'),\n",
       " ('Tesla', 50000, 'white')]"
      ]
     },
     "execution_count": 1,
     "metadata": {},
     "output_type": "execute_result"
    }
   ],
   "source": [
    "cars = [\"Ford\",\"Chevy\",\"Toyota\",\"Tesla\"]\n",
    "prices = [20000,25000,30000,50000]\n",
    "colors = [\"red\",\"blue\",\"black\",\"white\"]\n",
    "zipped_data = zip(cars,prices,colors)\n",
    "list(zipped_data)"
   ]
  },
  {
   "cell_type": "code",
   "execution_count": 2,
   "id": "1e743dc7-14bb-4b58-a61b-6c7f26e8e328",
   "metadata": {},
   "outputs": [
    {
     "data": {
      "text/plain": [
       "[('Ford', 20000, 'red'), ('Chevy', 25000, 'blue'), ('Toyota', 30000, 'black')]"
      ]
     },
     "execution_count": 2,
     "metadata": {},
     "output_type": "execute_result"
    }
   ],
   "source": [
    "cars = [\"Ford\",\"Chevy\",\"Toyota\"]\n",
    "prices = [20000,25000,30000,50000]\n",
    "colors = [\"red\",\"blue\",\"black\",\"white\"]\n",
    "zipped_data = zip(cars,prices,colors)\n",
    "list(zipped_data)"
   ]
  },
  {
   "cell_type": "code",
   "execution_count": 4,
   "id": "f16cc4ff-ea07-40b0-824f-db0d3741d57c",
   "metadata": {},
   "outputs": [
    {
     "ename": "ValueError",
     "evalue": "zip() argument 2 is longer than argument 1",
     "output_type": "error",
     "traceback": [
      "\u001b[1;31m---------------------------------------------------------------------------\u001b[0m",
      "\u001b[1;31mValueError\u001b[0m                                Traceback (most recent call last)",
      "Cell \u001b[1;32mIn[4], line 2\u001b[0m\n\u001b[0;32m      1\u001b[0m zipped_data \u001b[38;5;241m=\u001b[39m \u001b[38;5;28mzip\u001b[39m(cars,prices,colors,strict\u001b[38;5;241m=\u001b[39m\u001b[38;5;28;01mTrue\u001b[39;00m)\u001b[38;5;66;03m#Zip in strict mode throws a value error if there a desrepencies in the lenghts of the components\u001b[39;00m\n\u001b[1;32m----> 2\u001b[0m \u001b[38;5;28;43mlist\u001b[39;49m\u001b[43m(\u001b[49m\u001b[43mzipped_data\u001b[49m\u001b[43m)\u001b[49m\n",
      "\u001b[1;31mValueError\u001b[0m: zip() argument 2 is longer than argument 1"
     ]
    }
   ],
   "source": [
    "zipped_data = zip(cars,prices,colors,strict=True)#Zip in strict mode throws a value error if there a desrepencies in the lenghts of the components\n",
    "list(zipped_data)"
   ]
  },
  {
   "cell_type": "code",
   "execution_count": null,
   "id": "52eda600-e816-4a5d-9521-b99a415d7b66",
   "metadata": {},
   "outputs": [],
   "source": []
  }
 ],
 "metadata": {
  "kernelspec": {
   "display_name": "Python 3 (ipykernel)",
   "language": "python",
   "name": "python3"
  },
  "language_info": {
   "codemirror_mode": {
    "name": "ipython",
    "version": 3
   },
   "file_extension": ".py",
   "mimetype": "text/x-python",
   "name": "python",
   "nbconvert_exporter": "python",
   "pygments_lexer": "ipython3",
   "version": "3.11.4"
  }
 },
 "nbformat": 4,
 "nbformat_minor": 5
}
