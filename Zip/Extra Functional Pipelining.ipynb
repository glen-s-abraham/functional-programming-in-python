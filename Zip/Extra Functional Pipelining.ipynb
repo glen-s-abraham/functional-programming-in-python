{
 "cells": [
  {
   "cell_type": "code",
   "execution_count": 19,
   "id": "519676b5-bfb6-4aeb-b2dc-bb3dfaf3df24",
   "metadata": {},
   "outputs": [],
   "source": [
    "data = [1,2,3,4,5]"
   ]
  },
  {
   "cell_type": "code",
   "execution_count": 3,
   "id": "ef11599f-3d5c-4daa-bb0d-fda69f5ecb13",
   "metadata": {},
   "outputs": [
    {
     "data": {
      "text/plain": [
       "<map at 0x1f29f5e0100>"
      ]
     },
     "execution_count": 3,
     "metadata": {},
     "output_type": "execute_result"
    }
   ],
   "source": [
    "map(lambda x: x*2,data)"
   ]
  },
  {
   "cell_type": "code",
   "execution_count": 4,
   "id": "1c690acb-277c-4d55-a304-ad9649a09de9",
   "metadata": {},
   "outputs": [
    {
     "data": {
      "text/plain": [
       "<map at 0x1f29f5e1210>"
      ]
     },
     "execution_count": 4,
     "metadata": {},
     "output_type": "execute_result"
    }
   ],
   "source": [
    "map(lambda x:round(x**0.5,2),data)"
   ]
  },
  {
   "cell_type": "code",
   "execution_count": 5,
   "id": "bef2936c-d9ef-4b32-a348-fa8230ecca7f",
   "metadata": {},
   "outputs": [],
   "source": [
    "pipeleine = zip(\n",
    "    map(lambda x: x*2,data),\n",
    "    map(lambda x:round(x**0.5,2),data)\n",
    ")"
   ]
  },
  {
   "cell_type": "code",
   "execution_count": 6,
   "id": "ec0c8244-f0e6-4cbc-a6c5-ba421621b06e",
   "metadata": {},
   "outputs": [
    {
     "data": {
      "text/plain": [
       "[(2, 1.0), (4, 1.41), (6, 1.73), (8, 2.0), (10, 2.24)]"
      ]
     },
     "execution_count": 6,
     "metadata": {},
     "output_type": "execute_result"
    }
   ],
   "source": [
    "list(pipeleine)"
   ]
  },
  {
   "cell_type": "code",
   "execution_count": 22,
   "id": "a8e2e03a-1863-4762-a2b4-f6dbb6f2ea7c",
   "metadata": {},
   "outputs": [],
   "source": [
    "data = [1, 2, 3, 4]  # Make sure 'data' contains elements\n",
    "\n",
    "pipeline = (\n",
    "    (\n",
    "        (lambda x: x * 2)(x),\n",
    "        (lambda x: round(x ** 2))(x)\n",
    "    )\n",
    "    for x in data\n",
    ")\n"
   ]
  },
  {
   "cell_type": "code",
   "execution_count": 23,
   "id": "855a39bf-c98a-4b67-ba88-e06661f905bf",
   "metadata": {},
   "outputs": [
    {
     "data": {
      "text/plain": [
       "[(2, 1), (4, 4), (6, 9), (8, 16)]"
      ]
     },
     "execution_count": 23,
     "metadata": {},
     "output_type": "execute_result"
    }
   ],
   "source": [
    "list(pipeline)"
   ]
  }
 ],
 "metadata": {
  "kernelspec": {
   "display_name": "Python 3 (ipykernel)",
   "language": "python",
   "name": "python3"
  },
  "language_info": {
   "codemirror_mode": {
    "name": "ipython",
    "version": 3
   },
   "file_extension": ".py",
   "mimetype": "text/x-python",
   "name": "python",
   "nbconvert_exporter": "python",
   "pygments_lexer": "ipython3",
   "version": "3.11.4"
  }
 },
 "nbformat": 4,
 "nbformat_minor": 5
}
