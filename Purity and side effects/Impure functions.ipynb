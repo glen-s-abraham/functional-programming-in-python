{
 "cells": [
  {
   "cell_type": "code",
   "execution_count": 1,
   "id": "d7e29f86-75de-4cd2-bd36-857f30e8b76c",
   "metadata": {},
   "outputs": [],
   "source": [
    "user_database = {\n",
    "    \"Alice\":{\"age\":26,\"city\":\"New York\"},\n",
    "    \"Bob\":{\"age\":32,\"city\":\"Los Angeles\"}\n",
    "}"
   ]
  },
  {
   "cell_type": "code",
   "execution_count": 4,
   "id": "eb0f1208-fb9d-4884-a330-05679b43604a",
   "metadata": {},
   "outputs": [],
   "source": [
    "def update_profile(name,new_data):#Here this is a procudure rather than a function. A function would always return the same value for the same input provided.\n",
    "    if name in user_database:\n",
    "        user_database[name].update(new_data)\n",
    "        return f\"{name}'s profile updated!\"\n",
    "    return f\"No profile found for {name}\""
   ]
  },
  {
   "cell_type": "code",
   "execution_count": 5,
   "id": "a03e5e28-fa88-4476-abc4-b861e70ee167",
   "metadata": {},
   "outputs": [],
   "source": [
    "def pure_update_profile(database,name,new_data):\n",
    "    if name in database:\n",
    "        new_database =  database.copy()\n",
    "        new_database[name] = database[name] .copy()\n",
    "        new_database[name].update(new_data)\n",
    "        return new_database\n",
    "    return database"
   ]
  },
  {
   "cell_type": "code",
   "execution_count": 6,
   "id": "73e6cd88-4c6e-4f8b-8515-67f902226147",
   "metadata": {},
   "outputs": [],
   "source": [
    "new_db = pure_update_profile(user_database,'Alice',{\"city\":\"Boston\"})"
   ]
  },
  {
   "cell_type": "code",
   "execution_count": 7,
   "id": "0ed543aa-fe70-47ea-866b-25879a6439b9",
   "metadata": {},
   "outputs": [
    {
     "data": {
      "text/plain": [
       "{'Alice': {'age': 26, 'city': 'Boston'},\n",
       " 'Bob': {'age': 32, 'city': 'Los Angeles'}}"
      ]
     },
     "execution_count": 7,
     "metadata": {},
     "output_type": "execute_result"
    }
   ],
   "source": [
    "new_db"
   ]
  }
 ],
 "metadata": {
  "kernelspec": {
   "display_name": "Python 3 (ipykernel)",
   "language": "python",
   "name": "python3"
  },
  "language_info": {
   "codemirror_mode": {
    "name": "ipython",
    "version": 3
   },
   "file_extension": ".py",
   "mimetype": "text/x-python",
   "name": "python",
   "nbconvert_exporter": "python",
   "pygments_lexer": "ipython3",
   "version": "3.11.4"
  }
 },
 "nbformat": 4,
 "nbformat_minor": 5
}
