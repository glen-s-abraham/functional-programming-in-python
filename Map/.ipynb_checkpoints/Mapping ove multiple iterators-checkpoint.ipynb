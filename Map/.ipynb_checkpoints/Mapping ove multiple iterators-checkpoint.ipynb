{
 "cells": [
  {
   "cell_type": "code",
   "execution_count": 1,
   "id": "1f471ef5-c02c-4a91-8aa1-3577f46b864c",
   "metadata": {},
   "outputs": [],
   "source": [
    "first_names = [\"alice\",\"bob\",\"charlie\"]\n",
    "last_names = [\"smith\",\"jones\",\"brown\"]"
   ]
  },
  {
   "cell_type": "code",
   "execution_count": 2,
   "id": "8e5cf26b-bc0a-4a7f-b1b6-b145960c0365",
   "metadata": {},
   "outputs": [],
   "source": [
    "full_names = map(lambda x,y:x+\" \"+y, first_names,last_names)"
   ]
  },
  {
   "cell_type": "code",
   "execution_count": 3,
   "id": "e6bdf299-58af-4764-8878-b7dc8d33871f",
   "metadata": {},
   "outputs": [
    {
     "data": {
      "text/plain": [
       "['alice smith', 'bob jones', 'charlie brown']"
      ]
     },
     "execution_count": 3,
     "metadata": {},
     "output_type": "execute_result"
    }
   ],
   "source": [
    "list(full_names)"
   ]
  },
  {
   "cell_type": "code",
   "execution_count": 4,
   "id": "01409cec-5caf-4fb0-98bd-2e3ea780f2ec",
   "metadata": {},
   "outputs": [],
   "source": [
    "middle_names = ['jane','john','james']"
   ]
  },
  {
   "cell_type": "code",
   "execution_count": 5,
   "id": "09ea6020-6cf1-4988-b227-48d9cbe7a411",
   "metadata": {},
   "outputs": [],
   "source": [
    "full_names = map(lambda x,y,z:x+\" \"+y+\" \"+z, first_names,middle_names,last_names)"
   ]
  },
  {
   "cell_type": "code",
   "execution_count": 6,
   "id": "326e66ee-ddbc-45e2-974a-9888e9c97184",
   "metadata": {},
   "outputs": [
    {
     "data": {
      "text/plain": [
       "['alice jane smith', 'bob john jones', 'charlie james brown']"
      ]
     },
     "execution_count": 6,
     "metadata": {},
     "output_type": "execute_result"
    }
   ],
   "source": [
    "list(full_names)"
   ]
  }
 ],
 "metadata": {
  "kernelspec": {
   "display_name": "Python 3 (ipykernel)",
   "language": "python",
   "name": "python3"
  },
  "language_info": {
   "codemirror_mode": {
    "name": "ipython",
    "version": 3
   },
   "file_extension": ".py",
   "mimetype": "text/x-python",
   "name": "python",
   "nbconvert_exporter": "python",
   "pygments_lexer": "ipython3",
   "version": "3.11.4"
  }
 },
 "nbformat": 4,
 "nbformat_minor": 5
}
