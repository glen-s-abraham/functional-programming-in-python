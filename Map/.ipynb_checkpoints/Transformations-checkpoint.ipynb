{
 "cells": [
  {
   "cell_type": "code",
   "execution_count": 1,
   "id": "75a30766-f7bd-4067-9c67-3cef49e4aa63",
   "metadata": {},
   "outputs": [],
   "source": [
    "numbers = range(1,6)"
   ]
  },
  {
   "cell_type": "code",
   "execution_count": 2,
   "id": "f4cbda0f-20bb-4c47-bef7-6bb5e92ab878",
   "metadata": {},
   "outputs": [],
   "source": [
    "def cube(x):\n",
    "    return x**3"
   ]
  },
  {
   "cell_type": "code",
   "execution_count": 9,
   "id": "09759a78-0872-42c5-b8f4-3051292f206e",
   "metadata": {},
   "outputs": [],
   "source": [
    "cubed =map(cube, numbers)"
   ]
  },
  {
   "cell_type": "code",
   "execution_count": 10,
   "id": "79437340-c3e9-4591-9453-124105f93ece",
   "metadata": {},
   "outputs": [
    {
     "data": {
      "text/plain": [
       "<map at 0x2c1ee22dcc0>"
      ]
     },
     "execution_count": 10,
     "metadata": {},
     "output_type": "execute_result"
    }
   ],
   "source": [
    "cubed #the output of the map function is a generator"
   ]
  },
  {
   "cell_type": "code",
   "execution_count": 11,
   "id": "72028559-5e35-41a4-92a7-412d93ea3812",
   "metadata": {},
   "outputs": [
    {
     "data": {
      "text/plain": [
       "[1, 8, 27, 64, 125]"
      ]
     },
     "execution_count": 11,
     "metadata": {},
     "output_type": "execute_result"
    }
   ],
   "source": [
    "list(cubed)"
   ]
  },
  {
   "cell_type": "code",
   "execution_count": 12,
   "id": "989ae7b2-dca1-49ef-89bc-fe9a0b17d50e",
   "metadata": {},
   "outputs": [],
   "source": [
    "cubed = map(lambda x:x**3,numbers)"
   ]
  },
  {
   "cell_type": "code",
   "execution_count": 13,
   "id": "b42d93e5-f97b-45f9-9f65-199f6d46e648",
   "metadata": {},
   "outputs": [
    {
     "data": {
      "text/plain": [
       "[1, 8, 27, 64, 125]"
      ]
     },
     "execution_count": 13,
     "metadata": {},
     "output_type": "execute_result"
    }
   ],
   "source": [
    "list(cubed)"
   ]
  },
  {
   "cell_type": "code",
   "execution_count": 14,
   "id": "727dfb63-a094-45c1-8f8c-26aeea6c3ff7",
   "metadata": {},
   "outputs": [],
   "source": [
    "words = ('alice','hello','how','are','you')"
   ]
  },
  {
   "cell_type": "code",
   "execution_count": 15,
   "id": "56e66cb4-2c59-4900-ab38-3f5fc0d5d3d6",
   "metadata": {},
   "outputs": [],
   "source": [
    "capitalized = map(lambda x:x.capitalize(),words)"
   ]
  },
  {
   "cell_type": "code",
   "execution_count": 16,
   "id": "df8930d9-8bb9-4a00-8fa6-c3e57f353451",
   "metadata": {},
   "outputs": [
    {
     "data": {
      "text/plain": [
       "('Alice', 'Hello', 'How', 'Are', 'You')"
      ]
     },
     "execution_count": 16,
     "metadata": {},
     "output_type": "execute_result"
    }
   ],
   "source": [
    "tuple(capitalized)"
   ]
  },
  {
   "cell_type": "code",
   "execution_count": 17,
   "id": "bfe9557a-bb03-492b-896f-6e28e817221d",
   "metadata": {},
   "outputs": [],
   "source": [
    "floats = {1.2,2,33.4}"
   ]
  },
  {
   "cell_type": "code",
   "execution_count": 20,
   "id": "17f42dd6-6e9e-443f-87cd-913fe680fa6f",
   "metadata": {},
   "outputs": [],
   "source": [
    "rounded = map(lambda x:round(x),floats)"
   ]
  },
  {
   "cell_type": "code",
   "execution_count": 21,
   "id": "e4404322-feed-4ede-994a-724a56d93d3a",
   "metadata": {},
   "outputs": [
    {
     "data": {
      "text/plain": [
       "{1, 2, 33}"
      ]
     },
     "execution_count": 21,
     "metadata": {},
     "output_type": "execute_result"
    }
   ],
   "source": [
    "set(rounded)"
   ]
  }
 ],
 "metadata": {
  "kernelspec": {
   "display_name": "Python 3 (ipykernel)",
   "language": "python",
   "name": "python3"
  },
  "language_info": {
   "codemirror_mode": {
    "name": "ipython",
    "version": 3
   },
   "file_extension": ".py",
   "mimetype": "text/x-python",
   "name": "python",
   "nbconvert_exporter": "python",
   "pygments_lexer": "ipython3",
   "version": "3.11.4"
  }
 },
 "nbformat": 4,
 "nbformat_minor": 5
}
