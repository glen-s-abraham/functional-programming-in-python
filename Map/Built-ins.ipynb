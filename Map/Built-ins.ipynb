{
 "cells": [
  {
   "cell_type": "code",
   "execution_count": 1,
   "id": "beab7da3-34c8-4237-a2a2-60bcfd8d01f5",
   "metadata": {},
   "outputs": [],
   "source": [
    "word = \"hamming\""
   ]
  },
  {
   "cell_type": "code",
   "execution_count": 2,
   "id": "480f1374-c56c-49af-a5b9-e59b644fcc16",
   "metadata": {},
   "outputs": [
    {
     "data": {
      "text/plain": [
       "7"
      ]
     },
     "execution_count": 2,
     "metadata": {},
     "output_type": "execute_result"
    }
   ],
   "source": [
    "len(word)"
   ]
  },
  {
   "cell_type": "code",
   "execution_count": 3,
   "id": "28d6a714-7110-46e1-8640-c1b2ac7ecdc4",
   "metadata": {},
   "outputs": [],
   "source": [
    "words = [\"hamming\",\"von neuamann\", \"turing\",\"knuth\"]"
   ]
  },
  {
   "cell_type": "code",
   "execution_count": 4,
   "id": "4877ca59-5bd2-4223-ab0d-051e05198a17",
   "metadata": {},
   "outputs": [],
   "source": [
    "word_lengths = map(len,words)"
   ]
  },
  {
   "cell_type": "code",
   "execution_count": 5,
   "id": "f3300cb7-cb3e-4774-86cd-49494b27fab6",
   "metadata": {},
   "outputs": [
    {
     "data": {
      "text/plain": [
       "[7, 12, 6, 5]"
      ]
     },
     "execution_count": 5,
     "metadata": {},
     "output_type": "execute_result"
    }
   ],
   "source": [
    "list(word_lengths)"
   ]
  },
  {
   "cell_type": "code",
   "execution_count": 6,
   "id": "5132ed84-1ed3-44eb-b727-87e9d3a6f5de",
   "metadata": {},
   "outputs": [],
   "source": [
    "num_strings = [\"1\",\"2\",\"3\"]"
   ]
  },
  {
   "cell_type": "code",
   "execution_count": 7,
   "id": "94aa4593-100b-4a88-8f00-720596ca9697",
   "metadata": {},
   "outputs": [
    {
     "data": {
      "text/plain": [
       "[1, 2, 3]"
      ]
     },
     "execution_count": 7,
     "metadata": {},
     "output_type": "execute_result"
    }
   ],
   "source": [
    "list(map(int,num_strings))"
   ]
  },
  {
   "cell_type": "code",
   "execution_count": 13,
   "id": "ed702b54-7b4b-4e16-b7c8-2bf79df3c8ea",
   "metadata": {},
   "outputs": [],
   "source": [
    "from operator import add,mul"
   ]
  },
  {
   "cell_type": "code",
   "execution_count": 8,
   "id": "3189443e-e25b-4129-8fd6-700d9656c44c",
   "metadata": {},
   "outputs": [],
   "source": [
    "a = range(1,4)\n",
    "b = range(4,7)"
   ]
  },
  {
   "cell_type": "code",
   "execution_count": 11,
   "id": "1eb3ab18-a05d-4810-8db0-9fea94342d44",
   "metadata": {},
   "outputs": [
    {
     "data": {
      "text/plain": [
       "[5, 7, 9]"
      ]
     },
     "execution_count": 11,
     "metadata": {},
     "output_type": "execute_result"
    }
   ],
   "source": [
    "list(map(add,a,b))"
   ]
  },
  {
   "cell_type": "code",
   "execution_count": 14,
   "id": "72d720ea-7467-43a9-aa91-dfc2ec1d9dd3",
   "metadata": {},
   "outputs": [
    {
     "data": {
      "text/plain": [
       "[4, 10, 18]"
      ]
     },
     "execution_count": 14,
     "metadata": {},
     "output_type": "execute_result"
    }
   ],
   "source": [
    "list(map(mul,a,b))"
   ]
  }
 ],
 "metadata": {
  "kernelspec": {
   "display_name": "Python 3 (ipykernel)",
   "language": "python",
   "name": "python3"
  },
  "language_info": {
   "codemirror_mode": {
    "name": "ipython",
    "version": 3
   },
   "file_extension": ".py",
   "mimetype": "text/x-python",
   "name": "python",
   "nbconvert_exporter": "python",
   "pygments_lexer": "ipython3",
   "version": "3.11.4"
  }
 },
 "nbformat": 4,
 "nbformat_minor": 5
}
