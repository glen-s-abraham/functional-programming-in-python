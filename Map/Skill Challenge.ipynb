{
 "cells": [
  {
   "cell_type": "code",
   "execution_count": 1,
   "id": "8cef977f-143d-435c-b2f7-1fe783fb6fb3",
   "metadata": {},
   "outputs": [],
   "source": [
    "data = {\n",
    "    'abc':5,\n",
    "    'def':10,\n",
    "    'ghi':15\n",
    "}"
   ]
  },
  {
   "cell_type": "code",
   "execution_count": 6,
   "id": "a9dd91d6-100e-42f2-9f1d-88e434610ef7",
   "metadata": {},
   "outputs": [
    {
     "data": {
      "text/plain": [
       "{'cba': 15, 'fed': 20, 'ihg': 25}"
      ]
     },
     "execution_count": 6,
     "metadata": {},
     "output_type": "execute_result"
    }
   ],
   "source": [
    "dict(map(lambda kv:(kv[0][::-1],kv[1]+10),data.items()))"
   ]
  }
 ],
 "metadata": {
  "kernelspec": {
   "display_name": "Python 3 (ipykernel)",
   "language": "python",
   "name": "python3"
  },
  "language_info": {
   "codemirror_mode": {
    "name": "ipython",
    "version": 3
   },
   "file_extension": ".py",
   "mimetype": "text/x-python",
   "name": "python",
   "nbconvert_exporter": "python",
   "pygments_lexer": "ipython3",
   "version": "3.11.4"
  }
 },
 "nbformat": 4,
 "nbformat_minor": 5
}
