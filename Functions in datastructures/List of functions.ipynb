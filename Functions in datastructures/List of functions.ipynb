{
 "cells": [
  {
   "cell_type": "code",
   "execution_count": 1,
   "id": "8eba13de-ac07-43c3-9bb0-321def9af011",
   "metadata": {},
   "outputs": [],
   "source": [
    "def add(x,y):\n",
    "    return x+y"
   ]
  },
  {
   "cell_type": "code",
   "execution_count": 2,
   "id": "d076150c-ecfa-4ae1-aded-43a3079ce4b5",
   "metadata": {},
   "outputs": [],
   "source": [
    "def subtract(x,y):\n",
    "    return x-y"
   ]
  },
  {
   "cell_type": "code",
   "execution_count": 4,
   "id": "75aae2c6-b247-4a7f-9477-5b78efb08818",
   "metadata": {},
   "outputs": [],
   "source": [
    "nums = [5,2]"
   ]
  },
  {
   "cell_type": "code",
   "execution_count": 5,
   "id": "539da9f9-4bd8-4db4-8f07-ca50e3bd1d6c",
   "metadata": {},
   "outputs": [
    {
     "data": {
      "text/plain": [
       "5"
      ]
     },
     "execution_count": 5,
     "metadata": {},
     "output_type": "execute_result"
    }
   ],
   "source": [
    "nums[0]"
   ]
  },
  {
   "cell_type": "code",
   "execution_count": 6,
   "id": "3b6a3c64-62ec-4270-a764-07826084a7a3",
   "metadata": {},
   "outputs": [
    {
     "data": {
      "text/plain": [
       "2"
      ]
     },
     "execution_count": 6,
     "metadata": {},
     "output_type": "execute_result"
    }
   ],
   "source": [
    "nums[1]"
   ]
  },
  {
   "cell_type": "code",
   "execution_count": 7,
   "id": "b082bca4-66fc-4b91-8def-24b7d4956dae",
   "metadata": {},
   "outputs": [
    {
     "data": {
      "text/plain": [
       "7"
      ]
     },
     "execution_count": 7,
     "metadata": {},
     "output_type": "execute_result"
    }
   ],
   "source": [
    "add(nums[0],nums[1])"
   ]
  },
  {
   "cell_type": "code",
   "execution_count": 9,
   "id": "8fda2028-58fe-4256-aa73-5684f8781b88",
   "metadata": {},
   "outputs": [
    {
     "data": {
      "text/plain": [
       "7"
      ]
     },
     "execution_count": 9,
     "metadata": {},
     "output_type": "execute_result"
    }
   ],
   "source": [
    "add(*nums)"
   ]
  },
  {
   "cell_type": "code",
   "execution_count": 11,
   "id": "20f2aa6a-a787-43c3-86c1-e84306225cf5",
   "metadata": {},
   "outputs": [],
   "source": [
    "funcs = [add,subtract]"
   ]
  },
  {
   "cell_type": "code",
   "execution_count": 12,
   "id": "c84f2c9e-c367-426d-9ecb-d6e0ecc18b0f",
   "metadata": {},
   "outputs": [
    {
     "name": "stdout",
     "output_type": "stream",
     "text": [
      "7\n",
      "3\n"
     ]
    }
   ],
   "source": [
    "for func in funcs:\n",
    "    print(func(*nums))"
   ]
  }
 ],
 "metadata": {
  "kernelspec": {
   "display_name": "Python 3 (ipykernel)",
   "language": "python",
   "name": "python3"
  },
  "language_info": {
   "codemirror_mode": {
    "name": "ipython",
    "version": 3
   },
   "file_extension": ".py",
   "mimetype": "text/x-python",
   "name": "python",
   "nbconvert_exporter": "python",
   "pygments_lexer": "ipython3",
   "version": "3.11.4"
  }
 },
 "nbformat": 4,
 "nbformat_minor": 5
}
