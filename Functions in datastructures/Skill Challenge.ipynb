{
 "cells": [
  {
   "cell_type": "code",
   "execution_count": 2,
   "id": "9f1b7173-e02b-49b2-bfa8-bbc3a39ab0da",
   "metadata": {},
   "outputs": [],
   "source": [
    "def add(x,y):\n",
    "    return x+y"
   ]
  },
  {
   "cell_type": "code",
   "execution_count": 3,
   "id": "85a59a3a-487c-4200-906e-a2ba5033633f",
   "metadata": {},
   "outputs": [],
   "source": [
    "def subtract(x,y):\n",
    "    return x+y"
   ]
  },
  {
   "cell_type": "code",
   "execution_count": 4,
   "id": "5d900fc4-dd9e-4aa6-b7cc-734b2b67802d",
   "metadata": {},
   "outputs": [],
   "source": [
    "def multiply(x,y):\n",
    "    return x+y"
   ]
  },
  {
   "cell_type": "code",
   "execution_count": 5,
   "id": "d51ce73f-56dc-49c7-bfab-7dfab81e6532",
   "metadata": {},
   "outputs": [],
   "source": [
    "def divide(x,y):\n",
    "    return x+y"
   ]
  },
  {
   "cell_type": "code",
   "execution_count": 6,
   "id": "4af3ff0f-d2bb-495c-a6d8-c6ad69864444",
   "metadata": {},
   "outputs": [],
   "source": [
    "functions_map = {\n",
    "    'add':add,\n",
    "    'subtract': subtract,\n",
    "    'multiply': multiply,\n",
    "    'divide':divide\n",
    "}"
   ]
  },
  {
   "cell_type": "code",
   "execution_count": 10,
   "id": "93ea8130-943d-4674-ae58-6d08c1176810",
   "metadata": {},
   "outputs": [
    {
     "name": "stdin",
     "output_type": "stream",
     "text": [
      "Choose an operation dict_keys(['add', 'subtract', 'multiply', 'divide']): add\n",
      "Enter the first number: 12\n",
      "Enter the second number: 13\n"
     ]
    },
    {
     "name": "stdout",
     "output_type": "stream",
     "text": [
      "25.0\n"
     ]
    }
   ],
   "source": [
    "option = input(f\"Choose an operation {functions_map.keys()}:\")\n",
    "x= float(input(\"Enter the first number:\"))\n",
    "y= float(input(\"Enter the second number:\"))\n",
    "print(functions_map[option](x,y))"
   ]
  },
  {
   "cell_type": "code",
   "execution_count": null,
   "id": "73f1b422-1aa8-4cb2-a33e-16c77af337c2",
   "metadata": {},
   "outputs": [],
   "source": []
  }
 ],
 "metadata": {
  "kernelspec": {
   "display_name": "Python 3 (ipykernel)",
   "language": "python",
   "name": "python3"
  },
  "language_info": {
   "codemirror_mode": {
    "name": "ipython",
    "version": 3
   },
   "file_extension": ".py",
   "mimetype": "text/x-python",
   "name": "python",
   "nbconvert_exporter": "python",
   "pygments_lexer": "ipython3",
   "version": "3.11.4"
  }
 },
 "nbformat": 4,
 "nbformat_minor": 5
}
