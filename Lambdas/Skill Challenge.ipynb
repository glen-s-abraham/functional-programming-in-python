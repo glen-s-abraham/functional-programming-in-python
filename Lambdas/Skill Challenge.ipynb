{
 "cells": [
  {
   "cell_type": "code",
   "execution_count": 4,
   "id": "0fc7bfae-a44a-4261-a3fe-5008d8dfe30f",
   "metadata": {},
   "outputs": [],
   "source": [
    "ternery = lambda x:\"positive\" if x>0 else \"negative\" if x<0 else \"zero\" "
   ]
  },
  {
   "cell_type": "code",
   "execution_count": 5,
   "id": "9edb1b26-1458-4a42-a67b-eddb11cb109b",
   "metadata": {},
   "outputs": [
    {
     "data": {
      "text/plain": [
       "'positive'"
      ]
     },
     "execution_count": 5,
     "metadata": {},
     "output_type": "execute_result"
    }
   ],
   "source": [
    "ternery(5)"
   ]
  },
  {
   "cell_type": "code",
   "execution_count": 6,
   "id": "98b535c3-b248-4c88-96a3-8577b8df7327",
   "metadata": {},
   "outputs": [
    {
     "data": {
      "text/plain": [
       "'negative'"
      ]
     },
     "execution_count": 6,
     "metadata": {},
     "output_type": "execute_result"
    }
   ],
   "source": [
    "ternery(-5)"
   ]
  },
  {
   "cell_type": "code",
   "execution_count": 7,
   "id": "a4801dd1-59f8-44ae-aa6b-c9936c28996f",
   "metadata": {},
   "outputs": [
    {
     "data": {
      "text/plain": [
       "'zero'"
      ]
     },
     "execution_count": 7,
     "metadata": {},
     "output_type": "execute_result"
    }
   ],
   "source": [
    "ternery(0)"
   ]
  }
 ],
 "metadata": {
  "kernelspec": {
   "display_name": "Python 3 (ipykernel)",
   "language": "python",
   "name": "python3"
  },
  "language_info": {
   "codemirror_mode": {
    "name": "ipython",
    "version": 3
   },
   "file_extension": ".py",
   "mimetype": "text/x-python",
   "name": "python",
   "nbconvert_exporter": "python",
   "pygments_lexer": "ipython3",
   "version": "3.11.4"
  }
 },
 "nbformat": 4,
 "nbformat_minor": 5
}
