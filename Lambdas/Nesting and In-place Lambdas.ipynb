{
 "cells": [
  {
   "cell_type": "code",
   "execution_count": 2,
   "id": "a8e1e7d5-5340-42f9-a786-d2d8374c53f2",
   "metadata": {},
   "outputs": [
    {
     "data": {
      "text/plain": [
       "'Hey there!'"
      ]
     },
     "execution_count": 2,
     "metadata": {},
     "output_type": "execute_result"
    }
   ],
   "source": [
    "(lambda s:s.capitalize())(\"hey there!\")"
   ]
  },
  {
   "cell_type": "code",
   "execution_count": 3,
   "id": "ddd16b6c-b17d-46d0-8bc6-3ea5cf6fff5e",
   "metadata": {},
   "outputs": [
    {
     "data": {
      "text/plain": [
       "'even'"
      ]
     },
     "execution_count": 3,
     "metadata": {},
     "output_type": "execute_result"
    }
   ],
   "source": [
    "(lambda x:\"even\" if x%2==0 else \"odd\")(2)"
   ]
  },
  {
   "cell_type": "code",
   "execution_count": 6,
   "id": "b7030161-f70f-4278-98a4-3c5655149ad1",
   "metadata": {},
   "outputs": [
    {
     "data": {
      "text/plain": [
       "'Even'"
      ]
     },
     "execution_count": 6,
     "metadata": {},
     "output_type": "execute_result"
    }
   ],
   "source": [
    "(lambda x:(lambda x:\"even\" if x%2==0 else \"odd\")(x).capitalize())(22)"
   ]
  }
 ],
 "metadata": {
  "kernelspec": {
   "display_name": "Python 3 (ipykernel)",
   "language": "python",
   "name": "python3"
  },
  "language_info": {
   "codemirror_mode": {
    "name": "ipython",
    "version": 3
   },
   "file_extension": ".py",
   "mimetype": "text/x-python",
   "name": "python",
   "nbconvert_exporter": "python",
   "pygments_lexer": "ipython3",
   "version": "3.11.4"
  }
 },
 "nbformat": 4,
 "nbformat_minor": 5
}
