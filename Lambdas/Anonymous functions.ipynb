{
 "cells": [
  {
   "cell_type": "code",
   "execution_count": 2,
   "id": "486a5078-4b80-4e67-b02d-4f6ac51f4dbe",
   "metadata": {},
   "outputs": [],
   "source": [
    "def add(x,y):\n",
    "    return x+y"
   ]
  },
  {
   "cell_type": "code",
   "execution_count": 1,
   "id": "cd162df4-37c6-40bb-bfe0-1ddfe840e37d",
   "metadata": {},
   "outputs": [],
   "source": [
    "add_lambda = lambda x,y:x+y"
   ]
  },
  {
   "cell_type": "code",
   "execution_count": 3,
   "id": "62c442ec-157b-4d94-bb3f-e5ea0e5b391e",
   "metadata": {},
   "outputs": [
    {
     "data": {
      "text/plain": [
       "True"
      ]
     },
     "execution_count": 3,
     "metadata": {},
     "output_type": "execute_result"
    }
   ],
   "source": [
    "add(1,2)==add_lambda(1,2)"
   ]
  },
  {
   "cell_type": "code",
   "execution_count": 4,
   "id": "26dd64fb-52bc-41b7-8d3d-02e00275acc3",
   "metadata": {},
   "outputs": [
    {
     "data": {
      "text/plain": [
       "<function __main__.<lambda>()>"
      ]
     },
     "execution_count": 4,
     "metadata": {},
     "output_type": "execute_result"
    }
   ],
   "source": [
    "lambda:None #simplest lambda function"
   ]
  },
  {
   "cell_type": "code",
   "execution_count": 5,
   "id": "ee9dc110-1e8d-4572-bfa6-10b05290b822",
   "metadata": {},
   "outputs": [],
   "source": [
    "a = lambda:1"
   ]
  },
  {
   "cell_type": "code",
   "execution_count": 6,
   "id": "3f75a314-c885-46fd-8ffd-40ffcc829967",
   "metadata": {},
   "outputs": [
    {
     "data": {
      "text/plain": [
       "1"
      ]
     },
     "execution_count": 6,
     "metadata": {},
     "output_type": "execute_result"
    }
   ],
   "source": [
    "a()"
   ]
  },
  {
   "cell_type": "code",
   "execution_count": 8,
   "id": "c1b3db91-e0da-4e05-add9-cd78cbf11662",
   "metadata": {},
   "outputs": [
    {
     "data": {
      "text/plain": [
       "36"
      ]
     },
     "execution_count": 8,
     "metadata": {},
     "output_type": "execute_result"
    }
   ],
   "source": [
    "(lambda x,y:(x*y)**2)(2,3)"
   ]
  },
  {
   "cell_type": "code",
   "execution_count": null,
   "id": "8ed618c1-b9a7-4959-ac1e-96691c1221f4",
   "metadata": {},
   "outputs": [],
   "source": []
  }
 ],
 "metadata": {
  "kernelspec": {
   "display_name": "Python 3 (ipykernel)",
   "language": "python",
   "name": "python3"
  },
  "language_info": {
   "codemirror_mode": {
    "name": "ipython",
    "version": 3
   },
   "file_extension": ".py",
   "mimetype": "text/x-python",
   "name": "python",
   "nbconvert_exporter": "python",
   "pygments_lexer": "ipython3",
   "version": "3.11.4"
  }
 },
 "nbformat": 4,
 "nbformat_minor": 5
}
