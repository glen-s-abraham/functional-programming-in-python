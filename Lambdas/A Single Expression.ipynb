{
 "cells": [
  {
   "cell_type": "code",
   "execution_count": 1,
   "id": "90287ef1-6532-44a1-9122-fd1c47e70c64",
   "metadata": {},
   "outputs": [],
   "source": [
    "def square(num):\n",
    "    return num*num"
   ]
  },
  {
   "cell_type": "code",
   "execution_count": 2,
   "id": "434b1cdb-ba6f-4865-b9ce-8639fc02c791",
   "metadata": {},
   "outputs": [
    {
     "data": {
      "text/plain": [
       "<function __main__.<lambda>(num)>"
      ]
     },
     "execution_count": 2,
     "metadata": {},
     "output_type": "execute_result"
    }
   ],
   "source": [
    "lambda num:num*num"
   ]
  },
  {
   "cell_type": "code",
   "execution_count": 3,
   "id": "35aa5555-b441-4c4a-8456-f95ecda5736f",
   "metadata": {},
   "outputs": [],
   "source": [
    "def square_numbers(num_list):\n",
    "    return [num*num for num in num_list]"
   ]
  },
  {
   "cell_type": "code",
   "execution_count": null,
   "id": "aa584ac5-e709-4134-9cbf-8ab32786aa2d",
   "metadata": {},
   "outputs": [],
   "source": [
    "lambda num_list:"
   ]
  },
  {
   "cell_type": "code",
   "execution_count": 7,
   "id": "ea474791-8859-42ed-8d46-fff9dd9a6df2",
   "metadata": {},
   "outputs": [],
   "source": [
    "#if even, then square if odd then cube and get the sum of all these"
   ]
  },
  {
   "cell_type": "code",
   "execution_count": 6,
   "id": "b238d664-a9c5-4ce6-b9d5-645bc65bda12",
   "metadata": {},
   "outputs": [],
   "source": [
    "def square_numbers(num_list):\n",
    "    return sum([num*num if num%2==0 else num*num*num for num in num_list])"
   ]
  },
  {
   "cell_type": "code",
   "execution_count": 11,
   "id": "342b503d-4178-44a8-b827-ad6f995a5e83",
   "metadata": {},
   "outputs": [
    {
     "data": {
      "text/plain": [
       "48"
      ]
     },
     "execution_count": 11,
     "metadata": {},
     "output_type": "execute_result"
    }
   ],
   "source": [
    "(lambda num_list:sum([num*num if num%2==0 else num*num*num for num in num_list]))([1,2,3,4])"
   ]
  },
  {
   "cell_type": "code",
   "execution_count": null,
   "id": "fcb7dde9-d534-4fe6-9512-e5f89e47d8e0",
   "metadata": {},
   "outputs": [],
   "source": []
  }
 ],
 "metadata": {
  "kernelspec": {
   "display_name": "Python 3 (ipykernel)",
   "language": "python",
   "name": "python3"
  },
  "language_info": {
   "codemirror_mode": {
    "name": "ipython",
    "version": 3
   },
   "file_extension": ".py",
   "mimetype": "text/x-python",
   "name": "python",
   "nbconvert_exporter": "python",
   "pygments_lexer": "ipython3",
   "version": "3.11.4"
  }
 },
 "nbformat": 4,
 "nbformat_minor": 5
}
