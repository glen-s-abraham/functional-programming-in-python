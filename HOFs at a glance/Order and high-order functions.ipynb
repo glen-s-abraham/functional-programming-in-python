{
 "cells": [
  {
   "cell_type": "code",
   "execution_count": 3,
   "id": "26ea4f73-982c-4f7b-ac81-cb6df23aa359",
   "metadata": {},
   "outputs": [],
   "source": [
    "#Higher order functions are that which takes functions as arguements or returns function as result."
   ]
  },
  {
   "cell_type": "code",
   "execution_count": 2,
   "id": "ace30e9e-48bc-4a06-9e58-ce8f3d205401",
   "metadata": {},
   "outputs": [],
   "source": [
    "def double(x):\n",
    "    return x*2"
   ]
  },
  {
   "cell_type": "code",
   "execution_count": 6,
   "id": "9c999dfc-0b2b-4791-92cb-e31f27185261",
   "metadata": {},
   "outputs": [],
   "source": [
    "def apply_func(func,x):#HOF\n",
    "    return func(x)"
   ]
  },
  {
   "cell_type": "code",
   "execution_count": 5,
   "id": "d3a70add-58aa-4e14-ad5c-adf8fe594e8d",
   "metadata": {},
   "outputs": [
    {
     "name": "stdout",
     "output_type": "stream",
     "text": [
      "10\n"
     ]
    }
   ],
   "source": [
    "print(apply_func(double, 5))"
   ]
  }
 ],
 "metadata": {
  "kernelspec": {
   "display_name": "Python 3 (ipykernel)",
   "language": "python",
   "name": "python3"
  },
  "language_info": {
   "codemirror_mode": {
    "name": "ipython",
    "version": 3
   },
   "file_extension": ".py",
   "mimetype": "text/x-python",
   "name": "python",
   "nbconvert_exporter": "python",
   "pygments_lexer": "ipython3",
   "version": "3.11.4"
  }
 },
 "nbformat": 4,
 "nbformat_minor": 5
}
