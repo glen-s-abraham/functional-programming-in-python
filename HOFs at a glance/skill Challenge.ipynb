{
 "cells": [
  {
   "cell_type": "code",
   "execution_count": 1,
   "id": "07b505ca-d99a-42a9-b64a-590f111100a5",
   "metadata": {},
   "outputs": [],
   "source": [
    "import random"
   ]
  },
  {
   "cell_type": "code",
   "execution_count": 2,
   "id": "b97961e0-5a09-4703-9694-c59f1d9b61c8",
   "metadata": {},
   "outputs": [],
   "source": [
    "def unstable_function():\n",
    "    if random.randint(0,1) == 0:\n",
    "        print(\"function failed!\")\n",
    "        raise ValueError(\"Transient error!\")\n",
    "    else:\n",
    "        print(\"Function succeeded!\")\n",
    "        return \"Success!\""
   ]
  },
  {
   "cell_type": "code",
   "execution_count": 15,
   "id": "66d45fa7-cf23-4e7a-9663-51838f8d3511",
   "metadata": {},
   "outputs": [],
   "source": [
    "def retry(func,max_retries=3):\n",
    "    for _ in range(max_retries):\n",
    "        try:\n",
    "            return func()\n",
    "        except ValueError:\n",
    "            continue\n",
    "    return \"Failed after max retries\""
   ]
  },
  {
   "cell_type": "code",
   "execution_count": 18,
   "id": "7dcd12be-e278-4cdf-b472-d198973cbfb0",
   "metadata": {},
   "outputs": [
    {
     "name": "stdout",
     "output_type": "stream",
     "text": [
      "Function succeeded!\n"
     ]
    },
    {
     "data": {
      "text/plain": [
       "'Success!'"
      ]
     },
     "execution_count": 18,
     "metadata": {},
     "output_type": "execute_result"
    }
   ],
   "source": [
    "retry(unstable_function)"
   ]
  },
  {
   "cell_type": "code",
   "execution_count": null,
   "id": "083efca1-927f-4d04-8978-f89a078b54d2",
   "metadata": {},
   "outputs": [],
   "source": []
  }
 ],
 "metadata": {
  "kernelspec": {
   "display_name": "Python 3 (ipykernel)",
   "language": "python",
   "name": "python3"
  },
  "language_info": {
   "codemirror_mode": {
    "name": "ipython",
    "version": 3
   },
   "file_extension": ".py",
   "mimetype": "text/x-python",
   "name": "python",
   "nbconvert_exporter": "python",
   "pygments_lexer": "ipython3",
   "version": "3.11.4"
  }
 },
 "nbformat": 4,
 "nbformat_minor": 5
}
