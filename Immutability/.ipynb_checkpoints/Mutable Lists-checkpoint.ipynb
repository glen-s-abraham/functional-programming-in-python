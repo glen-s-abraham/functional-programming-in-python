{
 "cells": [
  {
   "cell_type": "code",
   "execution_count": 1,
   "id": "d2bedec7-2c4f-4283-b795-75aceff77507",
   "metadata": {},
   "outputs": [],
   "source": [
    "def add_element(data,element):\n",
    "    data.append(element)\n",
    "    return data"
   ]
  },
  {
   "cell_type": "code",
   "execution_count": 3,
   "id": "6ef636f7-b231-4543-be7e-edaa7f9a8e9b",
   "metadata": {},
   "outputs": [
    {
     "data": {
      "text/plain": [
       "[1, 2, 3]"
      ]
     },
     "execution_count": 3,
     "metadata": {},
     "output_type": "execute_result"
    }
   ],
   "source": [
    "my_list = [1,2,3]\n",
    "my_list"
   ]
  },
  {
   "cell_type": "code",
   "execution_count": 4,
   "id": "629ec875-70a3-43aa-bd73-93b214a29718",
   "metadata": {},
   "outputs": [
    {
     "data": {
      "text/plain": [
       "[1, 2, 3, 4]"
      ]
     },
     "execution_count": 4,
     "metadata": {},
     "output_type": "execute_result"
    }
   ],
   "source": [
    "add_element(my_list,4)\n",
    "my_list"
   ]
  },
  {
   "cell_type": "code",
   "execution_count": 6,
   "id": "42063c0a-87ff-4396-be7c-0e9545fea7ca",
   "metadata": {},
   "outputs": [],
   "source": [
    "def add_element_im(data,element):#immutable\n",
    "    return data + [element]"
   ]
  },
  {
   "cell_type": "code",
   "execution_count": 8,
   "id": "a57ff261-44a6-4051-a440-7a250f6452e8",
   "metadata": {},
   "outputs": [
    {
     "data": {
      "text/plain": [
       "([1, 2, 3, 4], [1, 2, 3, 4, 5])"
      ]
     },
     "execution_count": 8,
     "metadata": {},
     "output_type": "execute_result"
    }
   ],
   "source": [
    "new_list = add_element_im(my_list,5)\n",
    "my_list,new_list"
   ]
  }
 ],
 "metadata": {
  "kernelspec": {
   "display_name": "Python 3 (ipykernel)",
   "language": "python",
   "name": "python3"
  },
  "language_info": {
   "codemirror_mode": {
    "name": "ipython",
    "version": 3
   },
   "file_extension": ".py",
   "mimetype": "text/x-python",
   "name": "python",
   "nbconvert_exporter": "python",
   "pygments_lexer": "ipython3",
   "version": "3.11.4"
  }
 },
 "nbformat": 4,
 "nbformat_minor": 5
}
