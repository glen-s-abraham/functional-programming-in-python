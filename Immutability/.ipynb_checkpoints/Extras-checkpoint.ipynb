{
 "cells": [
  {
   "cell_type": "code",
   "execution_count": 1,
   "id": "9cc3fb51-05e9-42e4-9cc6-06350295b13c",
   "metadata": {},
   "outputs": [],
   "source": [
    "def create_history():\n",
    "    return ([\"\"],0)"
   ]
  },
  {
   "cell_type": "code",
   "execution_count": 2,
   "id": "b44708a6-6c3c-4720-b5a3-0adeae4afbe6",
   "metadata": {},
   "outputs": [],
   "source": [
    "def edit(history,new_text):\n",
    "    states, current_index = history\n",
    "    new_states = states + [new_text]\n",
    "    return (new_states,current_index+1)"
   ]
  },
  {
   "cell_type": "code",
   "execution_count": 3,
   "id": "f2554317-97aa-4295-83c1-6c38f7e30dac",
   "metadata": {},
   "outputs": [],
   "source": [
    "def undo(history):\n",
    "    states, current_index = history\n",
    "    new_index = current_index+1\n",
    "    return (states,new_index)"
   ]
  },
  {
   "cell_type": "code",
   "execution_count": 4,
   "id": "bf9ffac9-f1f7-4818-a8f1-9718552202d3",
   "metadata": {},
   "outputs": [],
   "source": [
    "def undo(history):\n",
    "    states, current_index = history\n",
    "    new_index = max(0,current_index-1)\n",
    "    return (states,new_index)"
   ]
  },
  {
   "cell_type": "code",
   "execution_count": 5,
   "id": "b8da28b5-c5d0-43a1-b02d-6c77f6bf5705",
   "metadata": {},
   "outputs": [],
   "source": [
    "def redo(history):\n",
    "    states, current_index = history\n",
    "    new_index = min(len(states)-1,current_index+1)\n",
    "    return (states,new_index)"
   ]
  },
  {
   "cell_type": "code",
   "execution_count": 10,
   "id": "69042e00-0983-470a-8b30-3cb4da4b5b09",
   "metadata": {},
   "outputs": [],
   "source": [
    "def current_state(history):\n",
    "    states, current_index = history\n",
    "    return states[current_index]"
   ]
  },
  {
   "cell_type": "code",
   "execution_count": 7,
   "id": "98f81b86-d114-460e-9546-888820921a73",
   "metadata": {},
   "outputs": [],
   "source": [
    "history = create_history()"
   ]
  },
  {
   "cell_type": "code",
   "execution_count": 8,
   "id": "3d3291a6-29d1-40e6-a139-92b02aade177",
   "metadata": {},
   "outputs": [],
   "source": [
    "history = edit(history,\"Andy\")"
   ]
  },
  {
   "cell_type": "code",
   "execution_count": 11,
   "id": "58d177ee-9f96-4e1e-a23c-2812fe399bd8",
   "metadata": {},
   "outputs": [
    {
     "data": {
      "text/plain": [
       "'Andy'"
      ]
     },
     "execution_count": 11,
     "metadata": {},
     "output_type": "execute_result"
    }
   ],
   "source": [
    "current_state(history)"
   ]
  },
  {
   "cell_type": "code",
   "execution_count": 12,
   "id": "5116ee68-6b70-4070-80d6-e6e660d1b80b",
   "metadata": {},
   "outputs": [],
   "source": [
    "history = edit(history,\"Andy Bek!\")"
   ]
  },
  {
   "cell_type": "code",
   "execution_count": 13,
   "id": "ab0dced5-7505-4b9f-a82c-0da8a68800bf",
   "metadata": {},
   "outputs": [
    {
     "data": {
      "text/plain": [
       "'Andy Bek!'"
      ]
     },
     "execution_count": 13,
     "metadata": {},
     "output_type": "execute_result"
    }
   ],
   "source": [
    "current_state(history)"
   ]
  },
  {
   "cell_type": "code",
   "execution_count": 14,
   "id": "540a1c53-ab1a-45a2-be10-be711d6cd841",
   "metadata": {},
   "outputs": [],
   "source": [
    "history = undo(history)"
   ]
  },
  {
   "cell_type": "code",
   "execution_count": 15,
   "id": "d173069a-c763-4dbb-98b8-3e5ccdb075de",
   "metadata": {},
   "outputs": [
    {
     "data": {
      "text/plain": [
       "'Andy'"
      ]
     },
     "execution_count": 15,
     "metadata": {},
     "output_type": "execute_result"
    }
   ],
   "source": [
    "current_state(history)"
   ]
  },
  {
   "cell_type": "code",
   "execution_count": 16,
   "id": "e49f9dae-acb4-4027-8d1c-6003d3a2115a",
   "metadata": {},
   "outputs": [],
   "source": [
    "history = redo(history)"
   ]
  },
  {
   "cell_type": "code",
   "execution_count": 17,
   "id": "79962e99-3e3e-4d08-a776-8225928feabb",
   "metadata": {},
   "outputs": [
    {
     "data": {
      "text/plain": [
       "'Andy Bek!'"
      ]
     },
     "execution_count": 17,
     "metadata": {},
     "output_type": "execute_result"
    }
   ],
   "source": [
    "current_state(history)"
   ]
  }
 ],
 "metadata": {
  "kernelspec": {
   "display_name": "Python 3 (ipykernel)",
   "language": "python",
   "name": "python3"
  },
  "language_info": {
   "codemirror_mode": {
    "name": "ipython",
    "version": 3
   },
   "file_extension": ".py",
   "mimetype": "text/x-python",
   "name": "python",
   "nbconvert_exporter": "python",
   "pygments_lexer": "ipython3",
   "version": "3.11.4"
  }
 },
 "nbformat": 4,
 "nbformat_minor": 5
}
