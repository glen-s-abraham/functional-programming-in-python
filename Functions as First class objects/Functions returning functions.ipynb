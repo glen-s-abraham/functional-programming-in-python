{
 "cells": [
  {
   "cell_type": "code",
   "execution_count": 1,
   "id": "8f3b9f75-2c00-4e93-b701-38bda9d7556d",
   "metadata": {},
   "outputs": [],
   "source": [
    "def outer_function(x):\n",
    "    def inner_function(y):\n",
    "        return y + x\n",
    "    return inner_function"
   ]
  },
  {
   "cell_type": "code",
   "execution_count": 2,
   "id": "6bb74122-5560-4726-82c2-d44380e76add",
   "metadata": {},
   "outputs": [],
   "source": [
    "add_five = outer_function(5)"
   ]
  },
  {
   "cell_type": "code",
   "execution_count": 3,
   "id": "1761029b-4027-4ef0-a47a-21955e37ea88",
   "metadata": {},
   "outputs": [
    {
     "data": {
      "text/plain": [
       "15"
      ]
     },
     "execution_count": 3,
     "metadata": {},
     "output_type": "execute_result"
    }
   ],
   "source": [
    "add_five(10)"
   ]
  }
 ],
 "metadata": {
  "kernelspec": {
   "display_name": "Python 3 (ipykernel)",
   "language": "python",
   "name": "python3"
  },
  "language_info": {
   "codemirror_mode": {
    "name": "ipython",
    "version": 3
   },
   "file_extension": ".py",
   "mimetype": "text/x-python",
   "name": "python",
   "nbconvert_exporter": "python",
   "pygments_lexer": "ipython3",
   "version": "3.11.4"
  }
 },
 "nbformat": 4,
 "nbformat_minor": 5
}
