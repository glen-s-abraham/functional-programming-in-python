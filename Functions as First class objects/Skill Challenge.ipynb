{
 "cells": [
  {
   "cell_type": "code",
   "execution_count": 2,
   "id": "f05dc201-2b93-4f72-be32-805a14f6a50a",
   "metadata": {},
   "outputs": [],
   "source": [
    "def subtract(x, y):\n",
    "    return x-y"
   ]
  },
  {
   "cell_type": "code",
   "execution_count": 1,
   "id": "61087bc8-8718-4112-a85f-de76ebcf5c45",
   "metadata": {},
   "outputs": [],
   "source": [
    "def reverse_args(f):\n",
    "    def reverse_f(x,y):\n",
    "        return f(y,x)\n",
    "    return reverse_f"
   ]
  },
  {
   "cell_type": "code",
   "execution_count": 3,
   "id": "2da15a26-2169-4a44-8fa1-b4fb2cee3904",
   "metadata": {},
   "outputs": [
    {
     "data": {
      "text/plain": [
       "-5"
      ]
     },
     "execution_count": 3,
     "metadata": {},
     "output_type": "execute_result"
    }
   ],
   "source": [
    "reverse_subtract = reverse_args(subtract)\n",
    "reverse_subtract(10,5)"
   ]
  },
  {
   "cell_type": "code",
   "execution_count": null,
   "id": "661b7b26-b36e-4304-82f5-1770599a0c2e",
   "metadata": {},
   "outputs": [],
   "source": []
  }
 ],
 "metadata": {
  "kernelspec": {
   "display_name": "Python 3 (ipykernel)",
   "language": "python",
   "name": "python3"
  },
  "language_info": {
   "codemirror_mode": {
    "name": "ipython",
    "version": 3
   },
   "file_extension": ".py",
   "mimetype": "text/x-python",
   "name": "python",
   "nbconvert_exporter": "python",
   "pygments_lexer": "ipython3",
   "version": "3.11.4"
  }
 },
 "nbformat": 4,
 "nbformat_minor": 5
}
